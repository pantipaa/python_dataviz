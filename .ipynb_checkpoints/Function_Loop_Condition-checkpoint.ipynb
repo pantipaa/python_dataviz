{
 "cells": [
  {
   "cell_type": "markdown",
   "metadata": {},
   "source": [
    "# Function\n",
    "### print ชื่อ xxx นามสกุ yyy รหัส zzz\n",
    "### print เกรด วิชา stat 1 >> AAA ของเพื่อนในแถว (ใช้ภาษาpython3.7ในการจัดการ)"
   ]
  },
  {
   "cell_type": "code",
   "execution_count": 15,
   "metadata": {},
   "outputs": [
    {
     "name": "stdout",
     "output_type": "stream",
     "text": [
      "ชื่อ พันทิพา นามสกุล มุขกัง รหัส 603021876-4\n"
     ]
    }
   ],
   "source": [
    "a = 'ชื่อ พันทิพา นามสกุล มุขกัง รหัส 603021876-4'\n",
    "print(a)"
   ]
  },
  {
   "cell_type": "code",
   "execution_count": 6,
   "metadata": {},
   "outputs": [
    {
     "name": "stdout",
     "output_type": "stream",
     "text": [
      "ชื่อ พันทิพา นามสกุล มุขกัง รหัส 603021876-4\n"
     ]
    }
   ],
   "source": [
    "name = 'พันทิพา'\n",
    "surname = 'มุขกัง'\n",
    "ID = '603021876-4'\n",
    "\n",
    "b = f'ชื่อ {name} นามสกุล {surname} รหัส {ID}'\n",
    "print(b)"
   ]
  },
  {
   "cell_type": "markdown",
   "metadata": {},
   "source": [
    "### function tenplate\n",
    "##### ทำโค้ดให้เป้นmarkdown"
   ]
  },
  {
   "cell_type": "markdown",
   "metadata": {},
   "source": [
    "``` python\n",
    "def print_line1(Input):\n",
    "    do_sometgin\n",
    "    return\n",
    "```"
   ]
  },
  {
   "cell_type": "code",
   "execution_count": null,
   "metadata": {},
   "outputs": [],
   "source": [
    "### normal"
   ]
  },
  {
   "cell_type": "code",
   "execution_count": 9,
   "metadata": {},
   "outputs": [],
   "source": [
    "def print_line1(name1,surname1,ID1):\n",
    "    st = f'ชื่อ {name1} นามสกุล {surname1} รหัส {ID1}'\n",
    "    return st"
   ]
  },
  {
   "cell_type": "code",
   "execution_count": 11,
   "metadata": {},
   "outputs": [
    {
     "name": "stdout",
     "output_type": "stream",
     "text": [
      "ชื่อ มุทิตา นามสกุล บุตะเขียว รหัส 603021882-9\n"
     ]
    }
   ],
   "source": [
    "print(print_line1('มุทิตา','บุตะเขียว','603021882-9'))"
   ]
  },
  {
   "cell_type": "markdown",
   "metadata": {},
   "source": [
    "### function without output"
   ]
  },
  {
   "cell_type": "code",
   "execution_count": 13,
   "metadata": {},
   "outputs": [],
   "source": [
    "def print_2lines(name1,surname1,ID1,grade):\n",
    "    st = f'ชื่อ {name1} นามสกุล {surname1} รหัส {ID1}'\n",
    "    print(st)\n",
    "    st2 = f'เกรด stat1 >>> {grade}'\n",
    "    print(st2)"
   ]
  },
  {
   "cell_type": "code",
   "execution_count": 14,
   "metadata": {},
   "outputs": [
    {
     "name": "stdout",
     "output_type": "stream",
     "text": [
      "ชื่อ มุทิตา นามสกุล บุตะเขียว รหัส ุ603021882-9\n",
      "เกรด stat1 >>> A\n"
     ]
    }
   ],
   "source": [
    "print_2lines('มุทิตา','บุตะเขียว','ุ603021882-9','A')"
   ]
  },
  {
   "cell_type": "code",
   "execution_count": 16,
   "metadata": {},
   "outputs": [
    {
     "name": "stdout",
     "output_type": "stream",
     "text": [
      "ชื่อ พันทิพา นามสกุล มุขกัง รหัส ุ603021876-4\n",
      "เกรด stat1 >>> A\n",
      "ชื่อ มุทิตา นามสกุล บุตะเขียว รหัส ุ603021882-9\n",
      "เกรด stat1 >>> A\n",
      "ชื่อ จันทราภรณ์ นามสกุล สมสวน รหัส ุ603021857-8\n",
      "เกรด stat1 >>> A\n"
     ]
    }
   ],
   "source": [
    "def print_line1(name1,surname1,ID1,grade):\n",
    "    st = f'ชื่อ {name1} นามสกุล {surname1} รหัส {ID1}'\n",
    "    print(st)\n",
    "    st2 = f'เกรด stat1 >>> {grade}'\n",
    "    print(st2)\n",
    "print_2lines('พันทิพา','มุขกัง','ุ603021876-4','A')\n",
    "print_2lines('มุทิตา','บุตะเขียว','ุ603021882-9','A')\n",
    "print_2lines('จันทราภรณ์','สมสวน','ุ603021857-8','A')"
   ]
  },
  {
   "cell_type": "markdown",
   "metadata": {},
   "source": [
    "#### error ตรงเว้นวรรค"
   ]
  },
  {
   "cell_type": "code",
   "execution_count": 17,
   "metadata": {},
   "outputs": [
    {
     "ename": "IndentationError",
     "evalue": "unexpected indent (<ipython-input-17-cf76db466169>, line 5)",
     "output_type": "error",
     "traceback": [
      "\u001b[1;36m  File \u001b[1;32m\"<ipython-input-17-cf76db466169>\"\u001b[1;36m, line \u001b[1;32m5\u001b[0m\n\u001b[1;33m    print(st2)\u001b[0m\n\u001b[1;37m    ^\u001b[0m\n\u001b[1;31mIndentationError\u001b[0m\u001b[1;31m:\u001b[0m unexpected indent\n"
     ]
    }
   ],
   "source": [
    "def print_line1(name1,surname1,ID1,grade):\n",
    "    st = f'ชื่อ {name1} นามสกุล {surname1} รหัส {ID1}'\n",
    "    print(st)\n",
    "    st2 = f'เกรด stat1 >>> {grade}'\n",
    "     print(st2)"
   ]
  },
  {
   "cell_type": "markdown",
   "metadata": {},
   "source": [
    "#### error คือหลังreturnจะไม่รันการทำงาน "
   ]
  },
  {
   "cell_type": "code",
   "execution_count": 18,
   "metadata": {},
   "outputs": [],
   "source": [
    "def print_line1(name1,surname1,ID1,grade):\n",
    "    st = f'ชื่อ {name1} นามสกุล {surname1} รหัส {ID1}'\n",
    "    return(st)\n",
    "    st2 = f'เกรด stat1 >>> {grade}'\n",
    "    print(st2)"
   ]
  },
  {
   "cell_type": "markdown",
   "metadata": {},
   "source": [
    "## function without input"
   ]
  },
  {
   "cell_type": "code",
   "execution_count": 20,
   "metadata": {},
   "outputs": [],
   "source": [
    "def two_x_three():\n",
    "    x = 2*3\n",
    "    return x"
   ]
  },
  {
   "cell_type": "code",
   "execution_count": 21,
   "metadata": {},
   "outputs": [
    {
     "data": {
      "text/plain": [
       "6"
      ]
     },
     "execution_count": 21,
     "metadata": {},
     "output_type": "execute_result"
    }
   ],
   "source": [
    "two_x_three()"
   ]
  },
  {
   "cell_type": "markdown",
   "metadata": {},
   "source": [
    "### function with default argument"
   ]
  },
  {
   "cell_type": "code",
   "execution_count": 26,
   "metadata": {},
   "outputs": [],
   "source": [
    "def print_2lines_default(name1,surname1,ID1,grade='F'):\n",
    "    st = f'ชื่อ {name1} นามสกุล {surname1} รหัส {ID1}'\n",
    "    print(st)\n",
    "    st2 = f'เกรด stat1 >>> {grade}'\n",
    "    print(st2)"
   ]
  },
  {
   "cell_type": "code",
   "execution_count": 27,
   "metadata": {},
   "outputs": [
    {
     "name": "stdout",
     "output_type": "stream",
     "text": [
      "ชื่อ พันทิพา นามสกุล มุขกัง รหัส 603021876-4\n",
      "เกรด stat1 >>> F\n"
     ]
    }
   ],
   "source": [
    "print_2lines_default('พันทิพา','มุขกัง','603021876-4')"
   ]
  },
  {
   "cell_type": "code",
   "execution_count": 28,
   "metadata": {},
   "outputs": [
    {
     "name": "stdout",
     "output_type": "stream",
     "text": [
      "ชื่อ พันทิพา นามสกุล มุขกัง รหัส 603021876-4\n",
      "เกรด stat1 >>> A+\n"
     ]
    }
   ],
   "source": [
    "print_2lines_default('พันทิพา','มุขกัง','603021876-4','A+')"
   ]
  },
  {
   "cell_type": "code",
   "execution_count": 30,
   "metadata": {},
   "outputs": [
    {
     "name": "stdout",
     "output_type": "stream",
     "text": [
      "ชื่อ มุขกัง นามสกุล พันทิพา รหัส 603021876-4\n",
      "เกรด stat1 >>> F\n"
     ]
    }
   ],
   "source": [
    "print_2lines_default(surname1 = 'พันทิพา',name1 = 'มุขกัง',ID1 = '603021876-4')  ###การกำหนดตัวแปร"
   ]
  },
  {
   "cell_type": "markdown",
   "metadata": {},
   "source": [
    "# Loop  วนซ้ำ"
   ]
  },
  {
   "cell_type": "markdown",
   "metadata": {},
   "source": [
    "``` \n",
    "for each_member in listA:\n",
    "    do something\n",
    "```"
   ]
  },
  {
   "cell_type": "code",
   "execution_count": 31,
   "metadata": {},
   "outputs": [
    {
     "name": "stdout",
     "output_type": "stream",
     "text": [
      "1\n",
      "2\n",
      "3\n"
     ]
    }
   ],
   "source": [
    "for i in [1,2,3]:\n",
    "    print(i)\n",
    "###  เอาสมาชิกที่อยู่ในin "
   ]
  },
  {
   "cell_type": "code",
   "execution_count": 37,
   "metadata": {},
   "outputs": [
    {
     "name": "stdout",
     "output_type": "stream",
     "text": [
      "P -> /\n",
      " \n",
      "a -> /\n",
      " \n",
      "n -> /\n",
      " \n",
      "t -> /\n",
      " \n",
      "i -> /\n",
      " \n",
      "p -> /\n",
      " \n",
      "a -> /\n",
      " \n"
     ]
    }
   ],
   "source": [
    "for i in 'Pantipa':  ### สำหรับทุกๆiที่เป็น spintในนี้ให้อยู่ในprint\n",
    "    print(f'{i} -> /')        ## เว้นวรรค\n",
    "    print(' ')"
   ]
  },
  {
   "cell_type": "markdown",
   "metadata": {},
   "source": [
    "## 1 สร้างlist ชื่อเพื่อนที่อยู่ในแถวยาวเดียวกัน \n",
    "## 2 วนลูป print ประโยคว่า 'ชื่อ(เรา) รักหรืออะไรก็ได้ เพื่อน ทุกคนในแถวยาว'"
   ]
  },
  {
   "cell_type": "code",
   "execution_count": 34,
   "metadata": {},
   "outputs": [],
   "source": [
    "list_name = ['Phing','Bam','Nat','Pang','Candy','Fluke']"
   ]
  },
  {
   "cell_type": "code",
   "execution_count": 35,
   "metadata": {},
   "outputs": [
    {
     "data": {
      "text/plain": [
       "['Phing', 'Bam', 'Nat', 'Pang', 'Candy', 'Fluke']"
      ]
     },
     "execution_count": 35,
     "metadata": {},
     "output_type": "execute_result"
    }
   ],
   "source": [
    "list_name"
   ]
  },
  {
   "cell_type": "code",
   "execution_count": 66,
   "metadata": {},
   "outputs": [],
   "source": [
    "def print_feeling(I,feeling,friend):\n",
    "    print(f'{I} {feeling} {friend}')"
   ]
  },
  {
   "cell_type": "code",
   "execution_count": 67,
   "metadata": {},
   "outputs": [
    {
     "name": "stdout",
     "output_type": "stream",
     "text": [
      "Aoy luv Bam\n"
     ]
    }
   ],
   "source": [
    "print_feeling('Aoy','luv','Bam')  ## test"
   ]
  },
  {
   "cell_type": "code",
   "execution_count": 46,
   "metadata": {},
   "outputs": [
    {
     "name": "stdout",
     "output_type": "stream",
     "text": [
      "Aoy luv Phing\n",
      "Aoy luv Bam\n",
      "Aoy luv Nat\n",
      "Aoy luv Pang\n",
      "Aoy luv Candy\n",
      "Aoy luv Fluke\n"
     ]
    }
   ],
   "source": [
    "for f in list_name:\n",
    "    print_feeling('Aoy','luv',f)"
   ]
  },
  {
   "cell_type": "markdown",
   "metadata": {},
   "source": [
    "### loop in function สร้างลูปเข้าไปในฟังก์ชัน"
   ]
  },
  {
   "cell_type": "code",
   "execution_count": 64,
   "metadata": {},
   "outputs": [],
   "source": [
    "def print_feelings(I,feeling,friends):\n",
    "    for friend in friends:\n",
    "        print(f'{I} {feeling} {friend}')"
   ]
  },
  {
   "cell_type": "code",
   "execution_count": 54,
   "metadata": {},
   "outputs": [
    {
     "name": "stdout",
     "output_type": "stream",
     "text": [
      "Aoy luv Phing\n",
      "Aoy luv Bam\n",
      "Aoy luv Nat\n",
      "Aoy luv Pang\n",
      "Aoy luv Candy\n",
      "Aoy luv Fluke\n"
     ]
    }
   ],
   "source": [
    "print_feelings('Aoy','luv', list_name)"
   ]
  },
  {
   "cell_type": "markdown",
   "metadata": {},
   "source": [
    "# loop in dict  "
   ]
  },
  {
   "cell_type": "code",
   "execution_count": 55,
   "metadata": {},
   "outputs": [
    {
     "data": {
      "text/plain": [
       "{'พันทิพา': 'B', 'ศุภนิตา': 'C', 'ปนัดดา': 'A', 'ทรงกลด': 'F'}"
      ]
     },
     "execution_count": 55,
     "metadata": {},
     "output_type": "execute_result"
    }
   ],
   "source": [
    "name_grade = {'พันทิพา':'B','ศุภนิตา':'C','ปนัดดา':'A','ทรงกลด':'F'}\n",
    "name_grade"
   ]
  },
  {
   "cell_type": "code",
   "execution_count": 56,
   "metadata": {},
   "outputs": [
    {
     "data": {
      "text/plain": [
       "'A'"
      ]
     },
     "execution_count": 56,
     "metadata": {},
     "output_type": "execute_result"
    }
   ],
   "source": [
    "name_grade['ปนัดดา']"
   ]
  },
  {
   "cell_type": "code",
   "execution_count": 59,
   "metadata": {},
   "outputs": [
    {
     "data": {
      "text/plain": [
       "dict_keys(['พันทิพา', 'ศุภนิตา', 'ปนัดดา', 'ทรงกลด'])"
      ]
     },
     "execution_count": 59,
     "metadata": {},
     "output_type": "execute_result"
    }
   ],
   "source": [
    "name_grade.keys()  ### เป็นคีย์ที่บอกชื่อแต่ละคน"
   ]
  },
  {
   "cell_type": "code",
   "execution_count": 60,
   "metadata": {},
   "outputs": [
    {
     "name": "stdout",
     "output_type": "stream",
     "text": [
      "พันทิพาได้เกรด B\n",
      "ศุภนิตาได้เกรด C\n",
      "ปนัดดาได้เกรด A\n",
      "ทรงกลดได้เกรด F\n"
     ]
    }
   ],
   "source": [
    "for i in name_grade.keys():\n",
    "    print(f'{i}ได้เกรด {name_grade[i]}')"
   ]
  },
  {
   "cell_type": "code",
   "execution_count": null,
   "metadata": {},
   "outputs": [],
   "source": [
    "## ลูปสามารถซ้อนลูปได้"
   ]
  },
  {
   "cell_type": "code",
   "execution_count": 68,
   "metadata": {},
   "outputs": [
    {
     "name": "stdout",
     "output_type": "stream",
     "text": [
      "Phing luv Phing\n",
      "Phing luv Bam\n",
      "Phing luv Nat\n",
      "Phing luv Pang\n",
      "Phing luv Candy\n",
      "Phing luv Fluke\n",
      "Bam luv Phing\n",
      "Bam luv Bam\n",
      "Bam luv Nat\n",
      "Bam luv Pang\n",
      "Bam luv Candy\n",
      "Bam luv Fluke\n",
      "Nat luv Phing\n",
      "Nat luv Bam\n",
      "Nat luv Nat\n",
      "Nat luv Pang\n",
      "Nat luv Candy\n",
      "Nat luv Fluke\n",
      "Pang luv Phing\n",
      "Pang luv Bam\n",
      "Pang luv Nat\n",
      "Pang luv Pang\n",
      "Pang luv Candy\n",
      "Pang luv Fluke\n",
      "Candy luv Phing\n",
      "Candy luv Bam\n",
      "Candy luv Nat\n",
      "Candy luv Pang\n",
      "Candy luv Candy\n",
      "Candy luv Fluke\n",
      "Fluke luv Phing\n",
      "Fluke luv Bam\n",
      "Fluke luv Nat\n",
      "Fluke luv Pang\n",
      "Fluke luv Candy\n",
      "Fluke luv Fluke\n"
     ]
    }
   ],
   "source": [
    "for name1 in list_name:\n",
    "    for name2 in list_name:\n",
    "        print_feeling(name1,'luv',name2)"
   ]
  },
  {
   "cell_type": "markdown",
   "metadata": {},
   "source": [
    "# conditional  ประโยคเงื่อนไข"
   ]
  },
  {
   "cell_type": "markdown",
   "metadata": {},
   "source": [
    "```Python\n",
    "if condition:\n",
    "    do something\n",
    "elif condition:\n",
    "    do another thing\n",
    "else:\n",
    "    do ...\n",
    "```"
   ]
  },
  {
   "cell_type": "code",
   "execution_count": 71,
   "metadata": {},
   "outputs": [
    {
     "name": "stdout",
     "output_type": "stream",
     "text": [
      "Phing รัก Phing\n",
      "Phing รัก Bam\n",
      "Phing รัก Nat\n",
      "Phing รัก Pang\n",
      "Phing รัก Candy\n",
      "Phing รัก Fluke\n",
      "Bam รัก Phing\n",
      "Bam รัก Bam\n",
      "Bam รัก Nat\n",
      "Bam รัก Pang\n",
      "Bam รัก Candy\n",
      "Bam รัก Fluke\n",
      "Nat รัก Phing\n",
      "Nat รัก Bam\n",
      "Nat รัก Nat\n",
      "Nat รัก Pang\n",
      "Nat รัก Candy\n",
      "Nat รัก Fluke\n",
      "Pang รัก Phing\n",
      "Pang รัก Bam\n",
      "Pang รัก Nat\n",
      "Pang รัก Pang\n",
      "Pang รัก Candy\n",
      "Pang รัก Fluke\n",
      "Candy รัก Phing\n",
      "Candy รัก Bam\n",
      "Candy รัก Nat\n",
      "Candy รัก Pang\n",
      "Candy รัก Candy\n",
      "Candy รัก Fluke\n",
      "Fluke รัก Phing\n",
      "Fluke รัก Bam\n",
      "Fluke รัก Nat\n",
      "Fluke รัก Pang\n",
      "Fluke รัก Candy\n",
      "Fluke รัก Fluke\n"
     ]
    }
   ],
   "source": [
    "for name1 in list_name:\n",
    "    for name2 in list_name:\n",
    "        if name1 != name:\n",
    "            print_feeling(name1,'รัก',name2)"
   ]
  },
  {
   "cell_type": "code",
   "execution_count": 72,
   "metadata": {},
   "outputs": [
    {
     "name": "stdout",
     "output_type": "stream",
     "text": [
      "Yes\n"
     ]
    }
   ],
   "source": [
    "if True:\n",
    "    print('Yes')"
   ]
  },
  {
   "cell_type": "code",
   "execution_count": 73,
   "metadata": {},
   "outputs": [],
   "source": [
    "if False:\n",
    "    print('No')"
   ]
  },
  {
   "cell_type": "code",
   "execution_count": 74,
   "metadata": {},
   "outputs": [
    {
     "name": "stdout",
     "output_type": "stream",
     "text": [
      "No\n"
     ]
    }
   ],
   "source": [
    "if False:\n",
    "    print('Yes')\n",
    "else:\n",
    "    print('No')    ##การเช็กเงื่อนไข"
   ]
  },
  {
   "cell_type": "code",
   "execution_count": 76,
   "metadata": {},
   "outputs": [
    {
     "name": "stdout",
     "output_type": "stream",
     "text": [
      "1=1\n"
     ]
    }
   ],
   "source": [
    "if 1 == 1:\n",
    "    print('1=1')"
   ]
  },
  {
   "cell_type": "markdown",
   "metadata": {},
   "source": [
    "# == เช็กว่าตัวหน้าเท่ากับตัวหลังไม ,!=คือเช็คว่าไม่เท่ากันหรือป่าว ,>= ตัวข้างหน้ามากกว่าเท่ากับตัวหลังหรือเปล่า,<=ตัวหน้าน้อยกว่าเท่ากับตัวหลังหรือเปล่า , >ตัวหน้ามากกว่าตัวหลัง , < ตัวหน้าน้อยกว่าตัวหลัง"
   ]
  },
  {
   "cell_type": "markdown",
   "metadata": {},
   "source": [
    "# HW\n",
    "g-upo function ตัดเกรด โดยที่ input เป็คะแนน (0-100) output เป็นเกรด(F-A)\n",
    "### input = [1,50,65,90,101,-5,49]"
   ]
  },
  {
   "cell_type": "code",
   "execution_count": null,
   "metadata": {},
   "outputs": [],
   "source": []
  }
 ],
 "metadata": {
  "kernelspec": {
   "display_name": "Python 3",
   "language": "python",
   "name": "python3"
  },
  "language_info": {
   "codemirror_mode": {
    "name": "ipython",
    "version": 3
   },
   "file_extension": ".py",
   "mimetype": "text/x-python",
   "name": "python",
   "nbconvert_exporter": "python",
   "pygments_lexer": "ipython3",
   "version": "3.7.3"
  }
 },
 "nbformat": 4,
 "nbformat_minor": 2
}
